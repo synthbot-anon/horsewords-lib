{
 "cells": [
  {
   "cell_type": "code",
   "execution_count": null,
   "metadata": {},
   "outputs": [],
   "source": [
    "from horsewords import fimfarchive\n",
    "\n",
    "# This folder should contain the unpacked fimfarchive data.\n",
    "CACHE_PATH = '/bulk/data/fimfarchive/fimfarchive - Mar 1, 2024'\n",
    "\n",
    "ff = fimfarchive.Fimfarchive(CACHE_PATH)"
   ]
  },
  {
   "cell_type": "code",
   "execution_count": null,
   "metadata": {},
   "outputs": [],
   "source": [
    "from datasets import Dataset\n",
    "\n",
    "def datapoints():\n",
    "    for story_id, story in ff.stories_by_id.items():\n",
    "        try:\n",
    "            chapters = ff.get_cached_chapters(story_id)\n",
    "        except:\n",
    "            continue\n",
    "\n",
    "        chapter_metadata = sorted(story['chapters'], key=lambda x: x['chapter_number'])\n",
    "        for chapter, metadata in zip(chapters, chapter_metadata):\n",
    "            yield {\n",
    "                'author': story['author']['name'],\n",
    "                'story': story_id,\n",
    "                'chapter': metadata['chapter_number'],\n",
    "                'story_tags': ','.join([x['name'] for x in story['tags']]),\n",
    "                'story_title': story['title'],\n",
    "                'story_blurb': story['short_description'],\n",
    "                'story_status': story['completion_status'],\n",
    "                'story_likes': story['num_likes'],\n",
    "                'story_dislikes': story['num_dislikes'],\n",
    "                'story_description': story['description_html'],\n",
    "                'story_rating': story['content_rating'],\n",
    "                'created': metadata['date_published'],\n",
    "                'updated': metadata['date_modified'],\n",
    "                'views': metadata['num_views'],\n",
    "                'text': chapter\n",
    "            }\n",
    "\n",
    "dataset = Dataset.from_generator(datapoints)\n",
    "dataset.push_to_hub(\"synthbot/fimfarchive\")"
   ]
  }
 ],
 "metadata": {
  "kernelspec": {
   "display_name": "Python 3",
   "language": "python",
   "name": "python3"
  },
  "language_info": {
   "codemirror_mode": {
    "name": "ipython",
    "version": 3
   },
   "file_extension": ".py",
   "mimetype": "text/x-python",
   "name": "python",
   "nbconvert_exporter": "python",
   "pygments_lexer": "ipython3",
   "version": "3.11.9"
  }
 },
 "nbformat": 4,
 "nbformat_minor": 2
}
