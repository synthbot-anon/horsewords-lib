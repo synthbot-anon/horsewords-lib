{
 "cells": [
  {
   "cell_type": "code",
   "execution_count": null,
   "metadata": {},
   "outputs": [],
   "source": [
    "import warnings\n",
    "from joblib import Parallel, delayed\n",
    "from tqdm import tqdm\n",
    "from horsewords import fimfarchive\n",
    "\n",
    "# This folder should contain the unpacked fimfarchive data.\n",
    "CACHE_PATH = '/bulk/data/fimfarchive/fimfarchive - Mar 1, 2024'\n",
    "\n",
    "ff = fimfarchive.Fimfarchive(CACHE_PATH)\n",
    "\n",
    "\n",
    "def cache_chapters(story_id):\n",
    "    # EbookLib is very noisy with this warning caused by library-internal issues\n",
    "    warnings.filterwarnings(\n",
    "        \"ignore\",\n",
    "        category=FutureWarning,\n",
    "        module=\"ebooklib.epub\",\n",
    "        message='This search incorrectly ignores the root element'\n",
    "    )\n",
    "    ff.cache_chapters(story_id)\n",
    "\n",
    "\n",
    "result = Parallel(n_jobs=-1, backend='multiprocessing')(\n",
    "    delayed(cache_chapters)(story_id) for story_id in ff.stories_by_id)"
   ]
  }
 ],
 "metadata": {
  "kernelspec": {
   "display_name": "Python 3",
   "language": "python",
   "name": "python3"
  },
  "language_info": {
   "codemirror_mode": {
    "name": "ipython",
    "version": 3
   },
   "file_extension": ".py",
   "mimetype": "text/x-python",
   "name": "python",
   "nbconvert_exporter": "python",
   "pygments_lexer": "ipython3",
   "version": "3.11.9"
  }
 },
 "nbformat": 4,
 "nbformat_minor": 2
}
